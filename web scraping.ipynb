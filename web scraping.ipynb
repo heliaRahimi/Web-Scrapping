{
 "cells": [
  {
   "cell_type": "code",
   "execution_count": 5,
   "id": "043e3a4e",
   "metadata": {},
   "outputs": [],
   "source": [
    "# Python script to scrape an article given the url of the article and store the extracted text in a file\n",
    "# Url: https://medium.com/@subashgandyer/papa-what-is-a-neural-network-c5e5cc427c7\n",
    "\n",
    "\n",
    "## Edit by Helia Rahimi, Student #: 101406077\n",
    "\n",
    "import os\n",
    "import sys\n",
    "import requests\n",
    "import re\n",
    "\n",
    "# Code here - Import BeautifulSoup library\n",
    "from bs4 import BeautifulSoup\n",
    "# Code ends here"
   ]
  },
  {
   "cell_type": "code",
   "execution_count": 6,
   "id": "632832eb",
   "metadata": {},
   "outputs": [],
   "source": [
    "# function to get the html source text of the medium article\n",
    "def get_page():\n",
    "    global url\n",
    "\n",
    "    # Code here - Ask the user to input \"Enter url of a medium article: \" and collect it in url\n",
    "    url = input(\"Enter url of a medium article: \")\n",
    "    # Code ends here\n",
    "\n",
    "    # handling possible error\n",
    "    if not re.match(r'https?://medium.com/', url):\n",
    "        print('Please enter a valid website, or make sure it is a medium article')\n",
    "        sys.exit(1)\n",
    "\n",
    "    # Code here - Call get method in requests object, pass url and collect it in res\n",
    "    res = requests.get(\n",
    "        'https://medium.com/@subashgandyer/papa-what-is-a-neural-network-c5e5cc427c7/')\n",
    "    # Code ends here\n",
    "\n",
    "    res.raise_for_status()\n",
    "    soup = BeautifulSoup(res.text, 'html.parser')\n",
    "    return soup"
   ]
  },
  {
   "cell_type": "code",
   "execution_count": 7,
   "id": "1d050eab",
   "metadata": {},
   "outputs": [],
   "source": [
    "# function to remove all the html tags and replace some with specific strings\n",
    "def clean(text):\n",
    "    rep = {\"<br>\": \"\\n\", \"<br/>\": \"\\n\", \"<li>\": \"\\n\"}\n",
    "    rep = dict((re.escape(k), v) for k, v in rep.items())\n",
    "    pattern = re.compile(\"|\".join(rep.keys()))\n",
    "    text = pattern.sub(lambda m: rep[re.escape(m.group(0))], text)\n",
    "    text = re.sub('\\<(.*?)\\>', '', text)\n",
    "    return text\n"
   ]
  },
  {
   "cell_type": "code",
   "execution_count": 8,
   "id": "e3f649e0",
   "metadata": {},
   "outputs": [],
   "source": [
    "def collect_text(soup):\n",
    "    text = f'url: {url}\\n\\n'\n",
    "    para_text = soup.find_all('p')\n",
    "    print(f\"paragraphs text = \\n {para_text}\")\n",
    "    for para in para_text:\n",
    "        text += f\"{para.text}\\n\\n\"\n",
    "    return text"
   ]
  },
  {
   "cell_type": "code",
   "execution_count": 9,
   "id": "5f8810ff",
   "metadata": {},
   "outputs": [],
   "source": [
    "# function to save file in the current directory\n",
    "def save_file(text):\n",
    "    if not os.path.exists('./scraped_articles'):\n",
    "        os.mkdir('./scraped_articles')\n",
    "    name = url.split(\"/\")[-1]\n",
    "    print(name)\n",
    "    fname = f'scraped_articles/{name}.txt'\n",
    "\n",
    "    # Code here - write a file using with (2 lines)\n",
    "    with open(fname, \"w\") as f:\n",
    "        f.write(text)\n",
    "    # Code ends here\n",
    "\n",
    "    print(f'File saved in directory {fname}')\n"
   ]
  },
  {
   "cell_type": "code",
   "execution_count": 10,
   "id": "f5c31727",
   "metadata": {},
   "outputs": [
    {
     "name": "stdout",
     "output_type": "stream",
     "text": [
      "Enter url of a medium article: https://medium.com/@subashgandyer/papa-what-is-a-neural-network-c5e5cc427c7\n",
      "paragraphs text = \n",
      " [<p class=\"bb b bc bd bz\"><span><a class=\"be bh ca cb cc cd ce cf cg bm bj bk ch ci cj\" href=\"/m/signin?operation=login&amp;redirect=https%3A%2F%2Fmedium.com%2F%40subashgandyer%2Fpapa-what-is-a-neural-network-c5e5cc427c7&amp;source=post_page-----c5e5cc427c7---------------------nav_reg--------------\" rel=\"noopener follow\">Sign in</a></span></p>, <p class=\"bb b bc bd be\">Subash Gandyer</p>, <p class=\"bb b bc bd bz\"><span class=\"hd\"></span><span>Mar 15, 2018</span><span class=\"he\">·</span>10 min read</p>, <p class=\"ho hp fy hq b hr hs ht hu hv hw hx hy hz ia ib ic id ie if ig ih dn gv\" id=\"7022\">It was a cozy Sunday afternoon in the month of February 2018. I just finished my huge customary Sunday lunch spread with family and resting along. Everyone in the family was taking a quick nap for a pre-planned evening outing. Well not everyone, actually.</p>, <p class=\"ho hp fy hq b hr iz hs ht hu ja hv hw hx jb hy hz ia jc ib ic id jd ie if ih dn gv\" id=\"d273\">My 4-year-old angel came running to me, asked me to play<span id=\"rmm\"><span id=\"rmm\"> </span></span>with her for a while. As I was lazy and not in a position to move after the big spread, I evaded the chance to play with her by telling her “Papa’s got some work baby. Got to code some stuff.” I thought that would be the end of the conversation. No! It wasn’t. As my daughter was very inquisitive, she asked me “Papa, what stuff?” I said, “I need to code something for my work.” She didn’t leave. She again asked, “What is code something?” I wanted to end this conversation, as I was half past asleep. “Just some stuff baby. You wouldn’t understand. Way beyond your age.” Tanishi never takes NO for an answer. “Papa, tell me what stuff means and something means.” Cannot help evade a cute curious face, I said, “I am working on Neural Network.” Before I finish the statement, “Papa, What is a Meural Metark?” I gave up my stubbornness of avoiding her. With a smile, I said slowly, “Its Neu — ral Net — work”</p>, <p class=\"ho hp fy hq b hr iz hs ht hu ja hv hw hx jb hy hz ia jc ib ic id jd ie if ih dn gv\" id=\"cdc5\">She asked, “Papa, What is Meu-ral Met-ark?”</p>, <p class=\"ho hp fy hq b hr iz hs ht hu ja hv hw hx jb hy hz ia jc ib ic id jd ie if ih dn gv\" id=\"79e6\">At the back of my head, thoughts of me taking days to comprehend what a NN (short for Neural Network) is, how it would work, where it is used, how it is simulating our human brain’s inner workings were going through. It took me days and weeks to understand fully and how can I make a 4-year-old understand what a Neural Network is. I never thought about teaching a complex concept to a kid before. It was way beyond their age. It was not a mere color or a shape or a number to teach. This was going to be interesting and challenging. I saw an opportunity here as a teacher (teaching professional college adults) to simplify the complex problem to a simpler understandable concept for a kid who doesn’t know anything apart from ABC, 1 to 20, Colors and Shapes. WOW! This was mind-boggling. I gave a couple of lectures to make my adult students understand what a Neural Network is when I taught them a mini-Machine Learning course. I rolled up my sleeves. Took up the challenge. Sat down beside my kid with pencil, drawing sheet and my laptop.</p>, <p class=\"ho hp fy hq b hr iz hs ht hu ja hv hw hx jb hy hz ia jc ib ic id jd ie if ih dn gv\" id=\"f38f\">Thinking of ways of what would be the best way to start teaching her. One simple methodology: I thought of starting with an easy-to-follow definition.</p>, <p class=\"ho hp fy hq b hr iz hs ht hu ja hv hw hx jb hy hz ia jc ib ic id jd ie if ih dn gv\" id=\"49ee\"><em class=\"js\">“Neural Network is a collection (a network) of neurons whose job is to learn a new thing or a new place or a new process or a new concept.”</em></p>, <p class=\"ho hp fy hq b hr iz hs ht hu ja hv hw hx jb hy hz ia jc ib ic id jd ie if ih dn gv\" id=\"829e\">It would be stupid on my part to start with a definition of Neural Network like how we used to teach adults in college. No, it’s not right for a kid. Then, I thought of a way to start with her favorite hobby of drawing and coloring objects. Gave her a paper, ask her to draw a circle. She did. She didn’t stop there. She drew a face inside the circle. She did with great pride and smile. I drew a circle below. Asked her to draw a dog out of it. She drew a face on the circle, and then she drew one big ellipse next to head. Beneath the ellipse, she drew four legs downwards. She said, “That’s the dog daddy.” I was super impressed as her daddy. I said, “Good Job!” and asked her, “Where’s the tail, baby?” She smiled and drew a tail. That’s it. There’s a dog.</p>, <p class=\"ho hp fy hq b hr iz hs ht hu ja hv hw hx jb hy hz ia jc ib ic id jd ie if ih dn gv\" id=\"30d4\">I knew she never learnt to draw a lion. I took this opportunity to make her learn a new thing. After all, neural network inside our brain helps us to learn new things in our life. I said, “Baby, we would learn how to draw a lion now.” She’s bustling with energy said “Yayyyy! Lion!” and made “Grrrrrrrrr!!!” I tested her by asking her to try drawing a lion. She stumbled. She never came across a lion before. I told her, there would be a circle face, ellipse body, four legs, a tail and so on. What I was actually doing here was teaching her neural network (brain) the features of a lion like exactly how Machine Learning Engineers would train the machine to learn new features. After telling her the features of a lion, asked her “Can you draw these for me?” She happily drew almost a similar figure to that of a dog she drew before.</p>, <p class=\"ho hp fy hq b hr iz hs ht hu ja hv hw hx jb hy hz ia jc ib ic id jd ie if ih dn gv\" id=\"936b\">I said, “Very good”. But they look similar right? Now, we need to know the difference between a dog and a lion. What’s the difference? Lion is big. Dog is small. One big difference is the mane (the beard) just like your papa has. A big beard is the main difference between a lion and a dog. Now I took the pencil and drew a beard in the face. I told her this is a lion. A dog will have features like face, body, legs, and tail. A lion will have features like face, body, legs, tail and a beard. She was little confused, rightly so.</p>, <p class=\"ho hp fy hq b hr iz hs ht hu ja hv hw hx jb hy hz ia jc ib ic id jd ie if ih dn gv\" id=\"fc45\">Tried a different approach to teach her with visuals. I spend some time in collecting pictures of dogs and lions from Google images. Printed it and showed her a set of dogs and then a set of lions. I asked her what these pictures look like to you? Was it a dog or a lion? She kept mixing the answers first. After rewarding her for correct classifications with nice adjectives and correcting her for wrong classifications, her detection accuracy improved a lot after sometime. She slowly got used to it. She got trained. Her neural network got aligned with classifying Dogs and Lions after some training. If you’ve noticed, this is how ML people make their machines learn through Reinforcement Learning. This was how I trained my daughter to classify dogs and lions. She was so happy that she learnt a new thing by doing her favorite pastime of drawing and coloring.</p>, <p class=\"ho hp fy hq b hr iz hs ht hu ja hv hw hx jb hy hz ia jc ib ic id jd ie if ih dn gv\" id=\"c543\">She was happy and there was the neural network functioning concept that still remained to be taught to her. I asked her “What happened now baby? Did you learn something new today? Do you know what is the difference between a lion and a dog?” She said, “Yes.” I said, “This is called Learning. You just learnt a new thing today. How you learnt it is because of Neural Network inside your brain.” Now, a neural network is a collection of neurons that keeps switching on and off based on things you see, feel, hear and think just like switching on light bulb at our home.</p>, <p class=\"ho hp fy hq b hr iz hs ht hu ja hv hw hx jb hy hz ia jc ib ic id jd ie if ih dn gv\" id=\"5ecd\">“Your brain is here inside our head. Your brain has billions of neurons inside. Every neuron has a purpose of seeing a feature. You can think of a feature as a simpler form of an object. For example, a face object can be seen by neurons as a circle (face) with two smaller circles (two eyes), a line (nose) and a curved line (mouth). These are features in a face object. Neurons will look for these patterns (circle, line, curved line, smaller circles and so on). Every neuron is waiting for your eyes to see something new, for your nose to smell something new, for your ears to hear something new, for your tongue to taste something new. When something new is heard, or smelled, or seen, or tasted, the neurons will group together to send signals and forms connections with already seen, heard, tasted or smelled neurons. This is what is called as ‘Forming Logical Connections’ with the past. Once it is established, your brain will say, ‘Hey, this is dog. This is lion and so on.’ Every neuron would’ve seen, or heard, or smelled, or tasted certain features. When you see a new object, your brain will ask the neurons, ‘Hey, anybody experienced this before?’ The neurons will say, ‘Yes, I have seen this.’ Certain other neurons will say, ‘No, I have not seen this.’ The neurons that have seen this before, will group together and form logical connections from the past and gives us an object from our memory. For example, when I showed you a lion picture, your brain asked the neurons who had seen it before. The neurons grouped together with features like face, body, legs, tail and a beard forms a lion. Your brain looks for these features. Once all the features are there, the neurons will send a signal that the picture you are looking at is a lion and not a dog. This is what happens inside your brain, darling. This is also how all our learning happens.”</p>, <p class=\"ho hp fy hq b hr iz hs ht hu ja hv hw hx jb hy hz ia jc ib ic id jd ie if ih dn gv\" id=\"998b\">“In short, brain consists of billions of neurons. Every neuron will tune itself to pick up certain features like legs, tail, face, beard, and so on. When a picture is shown to you, your neurons will group together and tries to signal what that object is by forming logical connections between the past and the present. Ultimately, the neurons in your brain tell that it is a lion and not a dog. This is how your brain identifies things. This complex working of the neurons inside the brain works super fast in the order of milliseconds (very fast). In a few milliseconds, your brain identifies whether the picture is a lion or a dog. This is what a neural network is and this is how it works in identifying things. The same principle is applied for a song that you hear, a cartoon that you watch, a rhyme that you sing, an animal that you draw, a food that you taste, a flower that you smell and so on. Neurons work together in finding patterns and once a pattern is identified, it signals the brain that it is a thing, place, song, taste, smell and so on.”</p>, <p class=\"ho hp fy hq b hr iz hs ht hu ja hv hw hx jb hy hz ia jc ib ic id jd ie if ih dn gv\" id=\"97b5\">It was the time to test her understanding. I asked her simple questions to reiterate what she learnt just now. “Do you understand now, baby? Shall I ask you some questions? If you answer it correctly, I will take you out to the ice-cream parlor and you can have how much ever you want. “ The conversation went like this.</p>, <p class=\"ho hp fy hq b hr iz hs ht hu ja hv hw hx jb hy hz ia jc ib ic id jd ie if ih dn gv\" id=\"d25d\">Me: Where is your brain?</p>, <p class=\"ho hp fy hq b hr iz hs ht hu ja hv hw hx jb hy hz ia jc ib ic id jd ie if ih dn gv\" id=\"2409\">Tanishi: Its here (showing her head)</p>, <p class=\"ho hp fy hq b hr iz hs ht hu ja hv hw hx jb hy hz ia jc ib ic id jd ie if ih dn gv\" id=\"f15d\">Me: Correct! Where are the neurons located?</p>, <p class=\"ho hp fy hq b hr iz hs ht hu ja hv hw hx jb hy hz ia jc ib ic id jd ie if ih dn gv\" id=\"a07d\">Tanishi: Here (showing her head)</p>, <p class=\"ho hp fy hq b hr iz hs ht hu ja hv hw hx jb hy hz ia jc ib ic id jd ie if ih dn gv\" id=\"2522\">Me: Good! Who is responsible for identifying things, objects inside our brain?</p>, <p class=\"ho hp fy hq b hr iz hs ht hu ja hv hw hx jb hy hz ia jc ib ic id jd ie if ih dn gv\" id=\"4e2c\">Tanishi: Hmmmm. Don’t know.</p>, <p class=\"ho hp fy hq b hr iz hs ht hu ja hv hw hx jb hy hz ia jc ib ic id jd ie if ih dn gv\" id=\"43ee\">Me: I will give a clue. It starts with ’N’ and ends with a rhyming sound of ‘ons’</p>, <p class=\"ho hp fy hq b hr iz hs ht hu ja hv hw hx jb hy hz ia jc ib ic id jd ie if ih dn gv\" id=\"eac0\">Tanishi: Neurons</p>, <p class=\"ho hp fy hq b hr iz hs ht hu ja hv hw hx jb hy hz ia jc ib ic id jd ie if ih dn gv\" id=\"fe95\">Me: Good job, baby. Every neuron looks for something. What is a neuron looking for? I will give you a hint. Is it features?</p>, <p class=\"ho hp fy hq b hr iz hs ht hu ja hv hw hx jb hy hz ia jc ib ic id jd ie if ih dn gv\" id=\"009b\">Tanishi: Yes.</p>, <p class=\"ho hp fy hq b hr iz hs ht hu ja hv hw hx jb hy hz ia jc ib ic id jd ie if ih dn gv\" id=\"eb01\">Me: Tell me what neurons are looking for?</p>, <p class=\"ho hp fy hq b hr iz hs ht hu ja hv hw hx jb hy hz ia jc ib ic id jd ie if ih dn gv\" id=\"b74a\">Tanishi: Features.</p>, <p class=\"ho hp fy hq b hr iz hs ht hu ja hv hw hx jb hy hz ia jc ib ic id jd ie if ih dn gv\" id=\"f474\">Me: Great! When I ask you to draw a dog, what are the features there?</p>, <p class=\"ho hp fy hq b hr iz hs ht hu ja hv hw hx jb hy hz ia jc ib ic id jd ie if ih dn gv\" id=\"8d2e\">Tanishi: Help me. I don’t know.</p>, <p class=\"ho hp fy hq b hr iz hs ht hu ja hv hw hx jb hy hz ia jc ib ic id jd ie if ih dn gv\" id=\"243f\">Me: Okay, when I ask you to draw a dog, what is the first thing you draw?</p>, <p class=\"ho hp fy hq b hr iz hs ht hu ja hv hw hx jb hy hz ia jc ib ic id jd ie if ih dn gv\" id=\"f198\">Tanishi: Circle.</p>, <p class=\"ho hp fy hq b hr iz hs ht hu ja hv hw hx jb hy hz ia jc ib ic id jd ie if ih dn gv\" id=\"ce3a\">Me: Good. Circle represents what?</p>, <p class=\"ho hp fy hq b hr iz hs ht hu ja hv hw hx jb hy hz ia jc ib ic id jd ie if ih dn gv\" id=\"ef37\">Tanishi: Face</p>, <p class=\"ho hp fy hq b hr iz hs ht hu ja hv hw hx jb hy hz ia jc ib ic id jd ie if ih dn gv\" id=\"5689\">Me: Yeah, baby. Then what you draw next?</p>, <p class=\"ho hp fy hq b hr iz hs ht hu ja hv hw hx jb hy hz ia jc ib ic id jd ie if ih dn gv\" id=\"059c\">Tanishi: I draw eyes, nose, and mouth.</p>, <p class=\"ho hp fy hq b hr iz hs ht hu ja hv hw hx jb hy hz ia jc ib ic id jd ie if ih dn gv\" id=\"1b01\">Me: Good. That’s right. So, the face has got eyes, nose and mouth as features. Now tell me, what are the features in a face?</p>, <p class=\"ho hp fy hq b hr iz hs ht hu ja hv hw hx jb hy hz ia jc ib ic id jd ie if ih dn gv\" id=\"1348\">Tanishi: Eyes, nose, mouth</p>, <p class=\"ho hp fy hq b hr iz hs ht hu ja hv hw hx jb hy hz ia jc ib ic id jd ie if ih dn gv\" id=\"a0e3\">Me: Brilliant! After the face, what do you draw for completing a dog?</p>, <p class=\"ho hp fy hq b hr iz hs ht hu ja hv hw hx jb hy hz ia jc ib ic id jd ie if ih dn gv\" id=\"4ee2\">Tanishi: Body</p>, <p class=\"ho hp fy hq b hr iz hs ht hu ja hv hw hx jb hy hz ia jc ib ic id jd ie if ih dn gv\" id=\"7fd8\">Me: What shape is the body?</p>, <p class=\"ho hp fy hq b hr iz hs ht hu ja hv hw hx jb hy hz ia jc ib ic id jd ie if ih dn gv\" id=\"1b0d\">Tanishi: Ellipse</p>, <p class=\"ho hp fy hq b hr iz hs ht hu ja hv hw hx jb hy hz ia jc ib ic id jd ie if ih dn gv\" id=\"8a41\">Me: Nice. This is also a feature that our neurons are looking for. What’s next?</p>, <p class=\"ho hp fy hq b hr iz hs ht hu ja hv hw hx jb hy hz ia jc ib ic id jd ie if ih dn gv\" id=\"ed6e\">Tanishi: Legs</p>, <p class=\"ho hp fy hq b hr iz hs ht hu ja hv hw hx jb hy hz ia jc ib ic id jd ie if ih dn gv\" id=\"e1c4\">Me: How many legs does a dog have?</p>, <p class=\"ho hp fy hq b hr iz hs ht hu ja hv hw hx jb hy hz ia jc ib ic id jd ie if ih dn gv\" id=\"15f4\">Tanishi: 1,2,3,4. 4 legs</p>, <p class=\"ho hp fy hq b hr iz hs ht hu ja hv hw hx jb hy hz ia jc ib ic id jd ie if ih dn gv\" id=\"d09c\">Me: Good. Anything else to draw in a dog?</p>, <p class=\"ho hp fy hq b hr iz hs ht hu ja hv hw hx jb hy hz ia jc ib ic id jd ie if ih dn gv\" id=\"b8dd\">Tanishi: That’s it.</p>, <p class=\"ho hp fy hq b hr iz hs ht hu ja hv hw hx jb hy hz ia jc ib ic id jd ie if ih dn gv\" id=\"16bf\">Me: Hey how about a tail? Dogs have tail?</p>, <p class=\"ho hp fy hq b hr iz hs ht hu ja hv hw hx jb hy hz ia jc ib ic id jd ie if ih dn gv\" id=\"fc5e\">Tanishi: Yes.</p>, <p class=\"ho hp fy hq b hr iz hs ht hu ja hv hw hx jb hy hz ia jc ib ic id jd ie if ih dn gv\" id=\"51d2\">Me: So, for a dog, the features are face, body, legs and tail. Do you understand what are the features now for a dog?</p>, <p class=\"ho hp fy hq b hr iz hs ht hu ja hv hw hx jb hy hz ia jc ib ic id jd ie if ih dn gv\" id=\"0400\">Tanishi: Yes!!!</p>, <p class=\"ho hp fy hq b hr iz hs ht hu ja hv hw hx jb hy hz ia jc ib ic id jd ie if ih dn gv\" id=\"cd53\">Me: What are they?</p>, <p class=\"ho hp fy hq b hr iz hs ht hu ja hv hw hx jb hy hz ia jc ib ic id jd ie if ih dn gv\" id=\"40c9\">Tanishi: Face, body, legs and tail</p>, <p class=\"ho hp fy hq b hr iz hs ht hu ja hv hw hx jb hy hz ia jc ib ic id jd ie if ih dn gv\" id=\"4d40\">Me: Amazing baby. If I ask you to draw a lion, what are the features? Same features as a dog but with an extra feature. Can you tell me what that extra feature is for a lion? It starts with ‘B’</p>, <p class=\"ho hp fy hq b hr iz hs ht hu ja hv hw hx jb hy hz ia jc ib ic id jd ie if ih dn gv\" id=\"3685\">Tanishi: Beard. (Holding my beard, she smiled and said) Beard like you</p>, <p class=\"ho hp fy hq b hr iz hs ht hu ja hv hw hx jb hy hz ia jc ib ic id jd ie if ih dn gv\" id=\"3199\">Me: Yes, darling. Good job. So, neurons are inside our brain waiting for features. To identify an object, it looks for features. Once the features are seen and a logical connection is established, neurons signals your brain that it is a lion. Who sends signal to the brain?</p>, <p class=\"ho hp fy hq b hr iz hs ht hu ja hv hw hx jb hy hz ia jc ib ic id jd ie if ih dn gv\" id=\"e5a5\">Tanishi: Neurons</p>, <p class=\"ho hp fy hq b hr iz hs ht hu ja hv hw hx jb hy hz ia jc ib ic id jd ie if ih dn gv\" id=\"e8b1\">Me: Now, these neurons are working together as friends. They are like your friends Daisy, Rose, Isabelle and Hayami. All neurons work together like your friends and identify lion and dog. So, this group of neuron friends is called as Neural Network. Tell me, what is a neural network?</p>, <p class=\"ho hp fy hq b hr iz hs ht hu ja hv hw hx jb hy hz ia jc ib ic id jd ie if ih dn gv\" id=\"749a\">Tanishi: Neuron friends</p>, <p class=\"ho hp fy hq b hr iz hs ht hu ja hv hw hx jb hy hz ia jc ib ic id jd ie if ih dn gv\" id=\"66c5\">Me: Good. Neural network is a group of neuron friends identifying lions and dogs. Do you understand Neural Network now?</p>, <p class=\"ho hp fy hq b hr iz hs ht hu ja hv hw hx jb hy hz ia jc ib ic id jd ie if ih dn gv\" id=\"619e\">Tanishi: Yes papa.</p>, <p class=\"ho hp fy hq b hr iz hs ht hu ja hv hw hx jb hy hz ia jc ib ic id jd ie if ih dn gv\" id=\"9ddc\">Me: Brilliant job baby. Come, let’s go, and get some ice creams for my lovely angel.</p>, <p class=\"ho hp fy hq b hr iz hs ht hu ja hv hw hx jb hy hz ia jc ib ic id jd ie if ih dn gv\" id=\"915a\">Phew! That was a challenging and a learning experience for me as well. That was how I ended my Sunday afternoon with my brilliant daughter who can teach other kids what a Meural Metark is. And I hope she will not come to me running asking “Papa, what is Meural Metark?” again. And I have a strong feeling; she would ask me another stunning question sooner or later. Fingers crossed and I am prepared to take up the challenges coming my way in the future.</p>, <p class=\"bb b bc bd bz\">CS Teacher to ...</p>, <p class=\"bb b bc bd bz\"><button class=\"dy dz ca cb cc cd ce cf cg bm ea eb ch ec ed\">74<!-- --> </button></p>, <p class=\"bb b bc bd bz\"><span class=\"mh mg\">1</span></p>, <p class=\"bb b bc bd gv\"><button class=\"dy dz ca cb cc cd ce cf cg bm ea eb ch ec ed\">74<span class=\"s h g f mu mv\"> </span></button><span class=\"s h g f mu mv\"></span></p>, <p class=\"bb b bc bd gv\"><button class=\"dy dz ca cb cc cd ce cf cg bm ea eb ch ec ed\">74<!-- --> </button></p>, <p class=\"bb b bc bd gv\"><span class=\"my mz mg\">1</span></p>, <p class=\"bb b bc bd bz\">CS Teacher to ...</p>]\n",
      "papa-what-is-a-neural-network-c5e5cc427c7\n",
      "File saved in directory scraped_articles/papa-what-is-a-neural-network-c5e5cc427c7.txt\n"
     ]
    }
   ],
   "source": [
    "if __name__ == '__main__':\n",
    "    text = collect_text(get_page())\n",
    "    save_file(text)\n",
    "# Instructions to Run this python code\n",
    "# Give url as https://medium.com/@subashgandyer/papa-what-is-a-neural-network-c5e5cc427c7"
   ]
  },
  {
   "cell_type": "code",
   "execution_count": null,
   "id": "e3970095",
   "metadata": {},
   "outputs": [],
   "source": []
  }
 ],
 "metadata": {
  "kernelspec": {
   "display_name": "venv3.9",
   "language": "python",
   "name": "venv3.9"
  },
  "language_info": {
   "codemirror_mode": {
    "name": "ipython",
    "version": 3
   },
   "file_extension": ".py",
   "mimetype": "text/x-python",
   "name": "python",
   "nbconvert_exporter": "python",
   "pygments_lexer": "ipython3",
   "version": "3.9.7"
  }
 },
 "nbformat": 4,
 "nbformat_minor": 5
}
